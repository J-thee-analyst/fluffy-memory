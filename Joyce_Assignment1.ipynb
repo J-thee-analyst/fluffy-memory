{
 "cells": [
  {
   "cell_type": "code",
   "execution_count": 1,
   "id": "66ed4ee6-67cd-487e-9ffb-f480b1b53085",
   "metadata": {},
   "outputs": [
    {
     "name": "stdout",
     "output_type": "stream",
     "text": [
      "Requirement already satisfied: mysql-connector-python in c:\\users\\lenovo\\appdata\\local\\programs\\python\\python313\\lib\\site-packages (9.3.0)\n"
     ]
    }
   ],
   "source": [
    "!pip install mysql-connector-python"
   ]
  },
  {
   "cell_type": "code",
   "execution_count": 2,
   "id": "0839f33c-1cc6-4d33-88ff-65c0c0d8ccb7",
   "metadata": {},
   "outputs": [],
   "source": [
    "import mysql.connector\n",
    "\n",
    "# Connect to MySQL\n",
    "conn = mysql.connector.connect(\n",
    "    host='localhost',       # or your DB host\n",
    "    user='root',            # replace with your username\n",
    "    password='sabina2016', # replace with your password\n",
    "    database='edu_institute'\n",
    ")"
   ]
  },
  {
   "cell_type": "code",
   "execution_count": 3,
   "id": "16fc8434-f08f-4a86-8f18-865d5908fc71",
   "metadata": {},
   "outputs": [],
   "source": [
    "cursor = conn.cursor()"
   ]
  },
  {
   "cell_type": "code",
   "execution_count": 4,
   "id": "edf533e7-7df1-4619-99f9-caaa1ca7170e",
   "metadata": {},
   "outputs": [],
   "source": [
    "cursor.execute(\"CREATE DATABASE IF NOT EXISTS edu_institute\")"
   ]
  },
  {
   "cell_type": "code",
   "execution_count": 5,
   "id": "8ec68e10-1ac1-4010-95a6-127ad6144705",
   "metadata": {},
   "outputs": [],
   "source": [
    "# Step 2: Create the table\n",
    "create_table_query = \"\"\"\n",
    "CREATE TABLE IF NOT EXISTS students (\n",
    "    student_id INT PRIMARY KEY,\n",
    "    name VARCHAR(50),\n",
    "    age INT,\n",
    "    gender CHAR(1),\n",
    "    enrollment_date DATE,\n",
    "    program VARCHAR(50)\n",
    ");\n",
    "\"\"\""
   ]
  },
  {
   "cell_type": "code",
   "execution_count": 6,
   "id": "b9427092-9392-4e50-a8ca-639e6132e915",
   "metadata": {},
   "outputs": [
    {
     "name": "stdout",
     "output_type": "stream",
     "text": [
      "Table 'students' created successfully (or already exists).\n"
     ]
    }
   ],
   "source": [
    "cursor.execute(create_table_query)\n",
    "print(\"Table 'students' created successfully (or already exists).\")\n",
    "\n",
    "cursor.close()\n",
    "conn.close()"
   ]
  },
  {
   "cell_type": "code",
   "execution_count": 7,
   "id": "835dcb18-e88b-4030-9db0-245eb0c2e0f6",
   "metadata": {},
   "outputs": [],
   "source": [
    "import mysql.connector\n",
    "\n",
    "# Connect to MySQL\n",
    "conn = mysql.connector.connect(\n",
    "    host='localhost',       # or your DB host\n",
    "    user='root',            # replace with your username\n",
    "    password='sabina2016', # replace with your password\n",
    "    database='edu_institute'\n",
    ")"
   ]
  },
  {
   "cell_type": "code",
   "execution_count": 8,
   "id": "059d43a7-62c9-463d-ad15-6754182335ee",
   "metadata": {},
   "outputs": [],
   "source": [
    "cursor = conn.cursor()"
   ]
  },
  {
   "cell_type": "code",
   "execution_count": 10,
   "id": "d2b9d807-354f-4aae-9ee4-51c162ea99a7",
   "metadata": {},
   "outputs": [],
   "source": [
    "insert_query = \"\"\"\n",
    "INSERT INTO students (student_id, name, age, gender, enrollment_date, program)\n",
    "VALUES (%s, %s, %s, %s, %s, %s)\n",
    "\"\"\"\n",
    "student_data = (\"1225\", \"Eliana\", 22, \"F\", \"2025-02-02\", \"Data Science\")\n",
    "student_data = (\"1325\", \"Daisy\", 21, \"F\", \"2025-02-02\", \"Data Science\")\n",
    "student_data = (\"1425\", \"Azariah\", 20, \"F\", \"2025-02-02\", \"Data Science\")\n",
    "student_data = (\"1525\", \"Benson\", 27, \"M\", \"2025-02-02\", \"Full Stack\")\n",
    "student_data = (\"1625\", \"Sunday\", 28, \"M\", \"2025-02-02\", \"A I\")\n",
    "student_data = (\"1725\", \"Rose\", 19, \"F\", \"2025-02-02\", \"Data Science\")\n",
    "student_data = (\"1828\", \"Blessing\", 21, \"F\", \"2025-02-02\", \"Artificial I\")\n",
    "cursor.execute(insert_query, student_data)\n",
    "conn.commit()"
   ]
  },
  {
   "cell_type": "code",
   "execution_count": 11,
   "id": "2ca52913-f98c-4fbb-afbf-4c6f50c960a5",
   "metadata": {},
   "outputs": [
    {
     "name": "stdout",
     "output_type": "stream",
     "text": [
      "(1225, 'Eliana', 22, 'F', datetime.date(2025, 2, 2), 'Data Science')\n",
      "(1325, 'Daisy', 21, 'F', datetime.date(2025, 2, 2), 'Data Science')\n",
      "(1425, 'Azariah', 20, 'F', datetime.date(2025, 2, 2), 'Data Science')\n",
      "(1725, 'Rose', 19, 'F', datetime.date(2025, 2, 2), 'Data Science')\n"
     ]
    }
   ],
   "source": [
    "select_query = \"\"\"\n",
    "SELECT * FROM students\n",
    "WHERE program = 'Data Science';\n",
    "\"\"\"\n",
    "\n",
    "cursor.execute(select_query)\n",
    "\n",
    "# Fetch and print results\n",
    "results = cursor.fetchall()\n",
    "\n",
    "for row in results:\n",
    "    print(row)"
   ]
  },
  {
   "cell_type": "code",
   "execution_count": 12,
   "id": "c07a8627-8e2b-4ec8-b70f-a9735ca3c4a5",
   "metadata": {},
   "outputs": [
    {
     "name": "stdout",
     "output_type": "stream",
     "text": [
      "Total students: 10\n"
     ]
    }
   ],
   "source": [
    "select_query = \"\"\"\n",
    "SELECT COUNT(*) AS total_student FROM students;\n",
    "\"\"\"\n",
    "\n",
    "cursor.execute(select_query)\n",
    "result = cursor.fetchone()\n",
    "\n",
    "print(\"Total students:\", result[0])"
   ]
  },
  {
   "cell_type": "code",
   "execution_count": 13,
   "id": "0e62fca6-2d61-4212-af16-5b80b74ec5ac",
   "metadata": {},
   "outputs": [
    {
     "name": "stdout",
     "output_type": "stream",
     "text": [
      "Today's Date: 2025-06-30\n"
     ]
    }
   ],
   "source": [
    "select_query = \"\"\"\n",
    "SELECT CURDATE() AS `Today's Date`;\n",
    "\"\"\"\n",
    "\n",
    "cursor.execute(select_query)\n",
    "result = cursor.fetchone()\n",
    "\n",
    "print(\"Today's Date:\", result[0])"
   ]
  },
  {
   "cell_type": "code",
   "execution_count": 14,
   "id": "517190ef-862c-4eb1-8e20-d5c4f7a50da2",
   "metadata": {},
   "outputs": [
    {
     "name": "stdout",
     "output_type": "stream",
     "text": [
      "Name: ELIANA | Enrollment Date: 2025-02-02\n",
      "Name: DAISY | Enrollment Date: 2025-02-02\n",
      "Name: AZARIAH | Enrollment Date: 2025-02-02\n",
      "Name: BENSON | Enrollment Date: 2025-02-02\n",
      "Name: SUNDAY | Enrollment Date: 2025-02-02\n",
      "Name: ROSE | Enrollment Date: 2025-02-02\n",
      "Name: BARAKA | Enrollment Date: 0025-02-02\n",
      "Name: BARAKA | Enrollment Date: 0025-02-02\n",
      "Name: BARAKA | Enrollment Date: 2025-02-02\n",
      "Name: BLESSING | Enrollment Date: 2025-02-02\n"
     ]
    }
   ],
   "source": [
    "select_query = \"\"\"\n",
    "SELECT UPPER(name) AS student_name, enrollment_date\n",
    "FROM students;\n",
    "\"\"\"\n",
    "\n",
    "cursor.execute(select_query)\n",
    "results = cursor.fetchall()\n",
    "\n",
    "for row in results:\n",
    "    print(\"Name:\", row[0], \"| Enrollment Date:\", row[1])"
   ]
  },
  {
   "cell_type": "code",
   "execution_count": 15,
   "id": "3e2fa556-6daf-4bfa-808c-69a836fa8ed1",
   "metadata": {},
   "outputs": [],
   "source": [
    "select_query = \"\"\"\n",
    "SELECT UPPER(name) AS student_name, enrollment_date, CURRENT_DATE() AS `Today's Date`\n",
    "FROM students;\n",
    "\"\"\""
   ]
  },
  {
   "cell_type": "code",
   "execution_count": 16,
   "id": "af7d4bbe-80e8-4836-a823-4698c164fd3e",
   "metadata": {},
   "outputs": [
    {
     "name": "stdout",
     "output_type": "stream",
     "text": [
      "Name: ELIANA | Enrollment Date: 2025-02-02\n",
      "Name: DAISY | Enrollment Date: 2025-02-02\n",
      "Name: AZARIAH | Enrollment Date: 2025-02-02\n",
      "Name: BENSON | Enrollment Date: 2025-02-02\n",
      "Name: SUNDAY | Enrollment Date: 2025-02-02\n",
      "Name: ROSE | Enrollment Date: 2025-02-02\n",
      "Name: BARAKA | Enrollment Date: 0025-02-02\n",
      "Name: BARAKA | Enrollment Date: 0025-02-02\n",
      "Name: BARAKA | Enrollment Date: 2025-02-02\n",
      "Name: BLESSING | Enrollment Date: 2025-02-02\n"
     ]
    }
   ],
   "source": [
    "select_query = \"\"\"\n",
    "SELECT UPPER(name) AS student_name, enrollment_date\n",
    "FROM students;\n",
    "\"\"\"\n",
    "\n",
    "cursor.execute(select_query)\n",
    "results = cursor.fetchall()\n",
    "\n",
    "for row in results:\n",
    "    print(\"Name:\", row[0], \"| Enrollment Date:\", row[1])"
   ]
  },
  {
   "cell_type": "code",
   "execution_count": 17,
   "id": "7f708f0d-330e-4561-94cb-307f799d977f",
   "metadata": {},
   "outputs": [
    {
     "name": "stdout",
     "output_type": "stream",
     "text": [
      "(1225, 'Eliana', 22, 'F', datetime.date(2025, 2, 2), 'Data Science')\n",
      "(1325, 'Daisy', 21, 'F', datetime.date(2025, 2, 2), 'Data Science')\n",
      "(1425, 'Azariah', 20, 'F', datetime.date(2025, 2, 2), 'Data Science')\n",
      "(1525, 'Benson', 27, 'M', datetime.date(2025, 2, 2), 'Full Stack')\n",
      "(1625, 'Sunday', 28, 'M', datetime.date(2025, 2, 2), 'A I')\n",
      "(1725, 'Rose', 19, 'F', datetime.date(2025, 2, 2), 'Data Science')\n",
      "(1825, 'Baraka', 21, 'M', datetime.date(25, 2, 2), 'A I')\n",
      "(1826, 'Baraka', 21, 'M', datetime.date(25, 2, 2), 'Artificial I')\n",
      "(1827, 'Baraka', 21, 'M', datetime.date(2025, 2, 2), 'Artificial I')\n",
      "(1828, 'Blessing', 21, 'F', datetime.date(2025, 2, 2), 'Artificial I')\n"
     ]
    }
   ],
   "source": [
    "cursor.execute(\"SELECT * FROM students\")\n",
    "rows = cursor.fetchall()\n",
    "\n",
    "for row in rows:\n",
    "    print(row)"
   ]
  },
  {
   "cell_type": "code",
   "execution_count": 18,
   "id": "42105f56-fdb4-49b4-b47b-1923bfe72733",
   "metadata": {},
   "outputs": [],
   "source": [
    "student_list = [\n",
    "    (\"1225\", \"Eliana\", 22, \"F\", \"2025-02-02\", \"Data Science\"),\n",
    "    (\"1325\", \"Daisy\", 21, \"F\", \"2025-02-02\", \"Data Science\"),\n",
    "    (\"1425\", \"Azariah\", 20, \"F\", \"2025-02-02\", \"Data Science\"),\n",
    "    (\"1525\", \"Benson\", 27, \"M\", \"2025-02-02\", \"Full Stack\"),\n",
    "    (\"1625\", \"Sunday\", 28, \"M\", \"2025-02-02\", \"A I\"),\n",
    "    (\"1725\", \"Rose\", 19, \"F\", \"2025-02-02\", \"Data Science\"),\n",
    "    (\"1825\", \"Baraka\", 21, \"M\", \"2025-02-02\", \"Artificial I\")\n",
    "]\n",
    "\n",
    "insert_query = \"\"\"\n",
    "INSERT INTO students (student_id, name, age, gender, enrollment_date, program)\n",
    "VALUES (%s, %s, %s, %s, %s, %s)\n",
    "\"\"\"\n",
    "\n",
    "for student in student_list:\n",
    "    try:\n",
    "        cursor.execute(insert_query, student)\n",
    "    except mysql.connector.IntegrityError:\n",
    "        pass  # skip if already inserted\n",
    "\n",
    "conn.commit()"
   ]
  },
  {
   "cell_type": "code",
   "execution_count": 19,
   "id": "dc58c0f7-c0ff-42f4-b312-c88418d942e5",
   "metadata": {},
   "outputs": [
    {
     "name": "stdout",
     "output_type": "stream",
     "text": [
      "('ELIANA', datetime.date(2025, 2, 2))\n",
      "('DAISY', datetime.date(2025, 2, 2))\n",
      "('AZARIAH', datetime.date(2025, 2, 2))\n",
      "('BENSON', datetime.date(2025, 2, 2))\n",
      "('SUNDAY', datetime.date(2025, 2, 2))\n",
      "('ROSE', datetime.date(2025, 2, 2))\n",
      "('BARAKA', datetime.date(25, 2, 2))\n",
      "('BARAKA', datetime.date(25, 2, 2))\n",
      "('BARAKA', datetime.date(2025, 2, 2))\n",
      "('BLESSING', datetime.date(2025, 2, 2))\n"
     ]
    }
   ],
   "source": [
    "cursor.execute(\"\"\"\n",
    "SELECT UPPER(name) AS student_name, enrollment_date\n",
    "FROM students;\n",
    "\"\"\")\n",
    "\n",
    "for row in cursor.fetchall():\n",
    "    print(row)"
   ]
  },
  {
   "cell_type": "code",
   "execution_count": 20,
   "id": "273ec398-a600-474a-b41d-c21d28967f67",
   "metadata": {},
   "outputs": [
    {
     "name": "stdout",
     "output_type": "stream",
     "text": [
      "Program: Data Science | Number of Students: 4\n",
      "Program: Artificial I | Number of Students: 3\n",
      "Program: A I | Number of Students: 2\n",
      "Program: Full Stack | Number of Students: 1\n"
     ]
    }
   ],
   "source": [
    "select_query = \"\"\"\n",
    "SELECT program, COUNT(*) AS `Number of Students`\n",
    "FROM students\n",
    "GROUP BY program\n",
    "ORDER BY `Number of Students` DESC;\n",
    "\"\"\"\n",
    "\n",
    "cursor.execute(select_query)\n",
    "results = cursor.fetchall()\n",
    "\n",
    "for row in results:\n",
    "    print(\"Program:\", row[0], \"| Number of Students:\", row[1])"
   ]
  },
  {
   "cell_type": "code",
   "execution_count": 21,
   "id": "3c223e60-3c86-40c4-a5f1-ccc02d2c9315",
   "metadata": {},
   "outputs": [
    {
     "name": "stdout",
     "output_type": "stream",
     "text": [
      "Name: Rose | Age: 19\n"
     ]
    }
   ],
   "source": [
    "select_query = \"\"\"\n",
    "SELECT name, age\n",
    "FROM students\n",
    "WHERE age = (SELECT MIN(age) FROM students);\n",
    "\"\"\"\n",
    "\n",
    "cursor.execute(select_query)\n",
    "result = cursor.fetchall()\n",
    "\n",
    "for row in result:\n",
    "    print(\"Name:\", row[0], \"| Age:\", row[1])"
   ]
  },
  {
   "cell_type": "code",
   "execution_count": null,
   "id": "e1867b37-27f5-48cd-a6da-65d41ff4f278",
   "metadata": {},
   "outputs": [],
   "source": []
  }
 ],
 "metadata": {
  "kernelspec": {
   "display_name": "Python 3 (ipykernel)",
   "language": "python",
   "name": "python3"
  },
  "language_info": {
   "codemirror_mode": {
    "name": "ipython",
    "version": 3
   },
   "file_extension": ".py",
   "mimetype": "text/x-python",
   "name": "python",
   "nbconvert_exporter": "python",
   "pygments_lexer": "ipython3",
   "version": "3.13.5"
  }
 },
 "nbformat": 4,
 "nbformat_minor": 5
}
